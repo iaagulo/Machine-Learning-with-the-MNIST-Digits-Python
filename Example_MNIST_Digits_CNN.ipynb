{
  "nbformat": 4,
  "nbformat_minor": 0,
  "metadata": {
    "colab": {
      "provenance": [],
      "authorship_tag": "ABX9TyMa3iWAiX1M8dqCWw3qQm/v",
      "include_colab_link": true
    },
    "kernelspec": {
      "name": "python3",
      "display_name": "Python 3"
    },
    "language_info": {
      "name": "python"
    }
  },
  "cells": [
    {
      "cell_type": "markdown",
      "metadata": {
        "id": "view-in-github",
        "colab_type": "text"
      },
      "source": [
        "<a href=\"https://colab.research.google.com/github/iaagulo/Machine-Learning-with-the-MNIST-Digits-Python/blob/main/Example_MNIST_Digits_CNN.ipynb\" target=\"_parent\"><img src=\"https://colab.research.google.com/assets/colab-badge.svg\" alt=\"Open In Colab\"/></a>"
      ]
    },
    {
      "cell_type": "markdown",
      "source": [
        "##**Classification of Written Digits**"
      ],
      "metadata": {
        "id": "Cx-xjMmrn9YP"
      }
    },
    {
      "cell_type": "markdown",
      "source": [
        "####**Importing the Necessary Libraries**"
      ],
      "metadata": {
        "id": "SmmMWPBIoVZ6"
      }
    },
    {
      "cell_type": "code",
      "execution_count": 35,
      "metadata": {
        "id": "7B78bGpln72R"
      },
      "outputs": [],
      "source": [
        "import numpy as np\n",
        "import matplotlib.pyplot as plt\n",
        "import pandas as pd\n",
        "\n",
        "import tensorflow as tf\n",
        "from tensorflow import keras\n",
        "from tensorflow.keras.models import Sequential\n",
        "from tensorflow.keras.layers import Dense, Conv2D, Dropout, Flatten, MaxPooling2D\n",
        "\n",
        "from sklearn.metrics import confusion_matrix, ConfusionMatrixDisplay"
      ]
    },
    {
      "cell_type": "markdown",
      "source": [
        "####**Loading the MNIST Digits Dataset**"
      ],
      "metadata": {
        "id": "_lQlilLLp8mB"
      }
    },
    {
      "cell_type": "code",
      "source": [
        "(X_train, y_train), (X_test, y_test) = keras.datasets.mnist.load_data()"
      ],
      "metadata": {
        "id": "mSdndJYwpICL",
        "colab": {
          "base_uri": "https://localhost:8080/"
        },
        "outputId": "64f02d88-87aa-4b6a-97aa-5005a3808ab6"
      },
      "execution_count": 2,
      "outputs": [
        {
          "output_type": "stream",
          "name": "stdout",
          "text": [
            "Downloading data from https://storage.googleapis.com/tensorflow/tf-keras-datasets/mnist.npz\n",
            "11490434/11490434 [==============================] - 0s 0us/step\n"
          ]
        }
      ]
    },
    {
      "cell_type": "markdown",
      "source": [
        "There are 60,000 sample training images of the digits between 0 and 9. Each digit has 28 x 28 pixels."
      ],
      "metadata": {
        "id": "ddLLoZDpI7X3"
      }
    },
    {
      "cell_type": "code",
      "source": [
        "X_train.shape"
      ],
      "metadata": {
        "id": "UJG_n17eqr-5",
        "colab": {
          "base_uri": "https://localhost:8080/"
        },
        "outputId": "ee087456-45af-4130-c13f-864b6c1a4a37"
      },
      "execution_count": 3,
      "outputs": [
        {
          "output_type": "execute_result",
          "data": {
            "text/plain": [
              "(60000, 28, 28)"
            ]
          },
          "metadata": {},
          "execution_count": 3
        }
      ]
    },
    {
      "cell_type": "markdown",
      "source": [
        "Consider the 201st digit in the data set. Here are the pixel values. Zero corresponds to black and 255 corresponds to white."
      ],
      "metadata": {
        "id": "uxq2ia8T3nMa"
      }
    },
    {
      "cell_type": "code",
      "source": [
        "X_train[200]"
      ],
      "metadata": {
        "id": "e8CQa6hGJXy1"
      },
      "execution_count": null,
      "outputs": []
    },
    {
      "cell_type": "markdown",
      "source": [
        "Here is the 201st label. "
      ],
      "metadata": {
        "id": "T244upBa30oR"
      }
    },
    {
      "cell_type": "code",
      "source": [
        "y_train[200]"
      ],
      "metadata": {
        "id": "V9PGQJmLJbql"
      },
      "execution_count": null,
      "outputs": []
    },
    {
      "cell_type": "markdown",
      "source": [
        "We now show the image corresponding to the 201st digit. It should show the same digit as the 201st label."
      ],
      "metadata": {
        "id": "0l9eWUz334eX"
      }
    },
    {
      "cell_type": "code",
      "source": [
        "plt.matshow(X_train[200])"
      ],
      "metadata": {
        "id": "OuDGHfavJf6c"
      },
      "execution_count": null,
      "outputs": []
    },
    {
      "cell_type": "markdown",
      "source": [
        "There are 10,000 sample test images of the digits between 0 and 9. Each digit has 28 x 28 pixels."
      ],
      "metadata": {
        "id": "WseN3cKDJTDh"
      }
    },
    {
      "cell_type": "code",
      "source": [
        "X_test.shape"
      ],
      "metadata": {
        "id": "wk99wvZPqsk7"
      },
      "execution_count": null,
      "outputs": []
    },
    {
      "cell_type": "markdown",
      "source": [
        "Again, here is the 201st test digit."
      ],
      "metadata": {
        "id": "7ENWmekN4RH8"
      }
    },
    {
      "cell_type": "code",
      "source": [
        "X_test[200]"
      ],
      "metadata": {
        "id": "htTQE8dlqznc"
      },
      "execution_count": null,
      "outputs": []
    },
    {
      "cell_type": "markdown",
      "source": [
        "Here is the corresponding 201st label of the test digit."
      ],
      "metadata": {
        "id": "9NzYy4Tv4Uz8"
      }
    },
    {
      "cell_type": "code",
      "source": [
        "y_test[200]"
      ],
      "metadata": {
        "id": "ZIX2X3jvJ1hi"
      },
      "execution_count": null,
      "outputs": []
    },
    {
      "cell_type": "markdown",
      "source": [
        "We can see that the image shown is the same as the 201st label. "
      ],
      "metadata": {
        "id": "6qDVVGZ_4Y7_"
      }
    },
    {
      "cell_type": "code",
      "source": [
        "plt.matshow(X_test[200])"
      ],
      "metadata": {
        "id": "5CZysp1OJ4ab"
      },
      "execution_count": null,
      "outputs": []
    },
    {
      "cell_type": "markdown",
      "source": [
        "#####**Preparing the Data**"
      ],
      "metadata": {
        "id": "AKCTYpTN0Iq8"
      }
    },
    {
      "cell_type": "markdown",
      "source": [
        "Let's scale the data to improve the accuracy."
      ],
      "metadata": {
        "id": "9zd626NOWOX0"
      }
    },
    {
      "cell_type": "code",
      "source": [
        "X_train = X_train/255\n",
        "X_test = X_test/255"
      ],
      "metadata": {
        "id": "8InBA0lLWTeI"
      },
      "execution_count": 11,
      "outputs": []
    },
    {
      "cell_type": "markdown",
      "source": [
        "Then, let's take a look at the dimensions of $X\\_train$ and $X\\_test$."
      ],
      "metadata": {
        "id": "9GGaVPugvQ5u"
      }
    },
    {
      "cell_type": "code",
      "source": [
        "print(X_train.shape)\n",
        "print(X_test.shape)"
      ],
      "metadata": {
        "id": "LS8tjK8rvTdg",
        "colab": {
          "base_uri": "https://localhost:8080/"
        },
        "outputId": "a5a58b91-c334-4eca-b9d7-f05457b9d275"
      },
      "execution_count": 12,
      "outputs": [
        {
          "output_type": "stream",
          "name": "stdout",
          "text": [
            "(60000, 28, 28)\n",
            "(10000, 28, 28)\n"
          ]
        }
      ]
    },
    {
      "cell_type": "markdown",
      "source": [
        "We want to convert the each of the 28 x 28 image array to a 1 x 784 array. Each of these flattened images will serve as the input layer to the neural network. We do this by using the $reshape$ command."
      ],
      "metadata": {
        "id": "8Y_IEQDIAi5p"
      }
    },
    {
      "cell_type": "code",
      "source": [
        "X_train_flat = X_train.reshape(len(X_train),28,28,1)\n",
        "X_test_flat = X_test.reshape(len(X_test),28,28,1)"
      ],
      "metadata": {
        "id": "xRb2RFi7AWtR"
      },
      "execution_count": 32,
      "outputs": []
    },
    {
      "cell_type": "markdown",
      "source": [
        "Now, let's take a look at the dimensions of $X\\_train$ and $X\\_test$."
      ],
      "metadata": {
        "id": "QlsNSwwaBMzp"
      }
    },
    {
      "cell_type": "code",
      "source": [
        "print(X_train_flat.shape)\n",
        "print(X_test_flat.shape)"
      ],
      "metadata": {
        "colab": {
          "base_uri": "https://localhost:8080/"
        },
        "id": "5ait24skAYno",
        "outputId": "27c9f2f1-acb8-43ef-9576-830c8618d7a5"
      },
      "execution_count": 33,
      "outputs": [
        {
          "output_type": "stream",
          "name": "stdout",
          "text": [
            "(60000, 28, 28, 1)\n",
            "(10000, 28, 28, 1)\n"
          ]
        }
      ]
    },
    {
      "cell_type": "markdown",
      "source": [
        "####**Defining the model**"
      ],
      "metadata": {
        "id": "Gh4vWGP81zPu"
      }
    },
    {
      "cell_type": "code",
      "source": [
        "model = tf.keras.models.Sequential([\n",
        "    tf.keras.layers.Conv2D(64, (3,3), activation='relu', input_shape=(28,28,1)),\n",
        "    tf.keras.layers.MaxPooling2D(2,2),\n",
        "    # tf.keras.layers.Conv2D(64, (3,3), activation='relu'),\n",
        "    # tf.keras.layers.MaxPooling2D(2,2),\n",
        "    # tf.keras.layers.Conv2D(128, (3,3), activation='relu'),\n",
        "    # tf.keras.layers.MaxPooling2D(2,2),\n",
        "    # tf.keras.layers.Conv2D(128, (3,3), activation='relu'),\n",
        "    # tf.keras.layers.MaxPooling2D(2,2),\n",
        "    tf.keras.layers.Flatten(),\n",
        "    tf.keras.layers.Dropout(0.5),\n",
        "    tf.keras.layers.Dense(512, activation='relu'),\n",
        "    tf.keras.layers.Dense(10, activation='softmax')\n",
        "])"
      ],
      "metadata": {
        "id": "kJ5wnjnx1m49"
      },
      "execution_count": 37,
      "outputs": []
    },
    {
      "cell_type": "code",
      "source": [
        "model.summary()"
      ],
      "metadata": {
        "colab": {
          "base_uri": "https://localhost:8080/"
        },
        "id": "AsYkv4vh2lae",
        "outputId": "ce0b3007-01b3-4df5-916c-24ff6cae4e03"
      },
      "execution_count": 38,
      "outputs": [
        {
          "output_type": "stream",
          "name": "stdout",
          "text": [
            "Model: \"sequential_12\"\n",
            "_________________________________________________________________\n",
            " Layer (type)                Output Shape              Param #   \n",
            "=================================================================\n",
            " conv2d_42 (Conv2D)          (None, 26, 26, 64)        640       \n",
            "                                                                 \n",
            " max_pooling2d_42 (MaxPoolin  (None, 13, 13, 64)       0         \n",
            " g2D)                                                            \n",
            "                                                                 \n",
            " flatten_13 (Flatten)        (None, 10816)             0         \n",
            "                                                                 \n",
            " dropout_12 (Dropout)        (None, 10816)             0         \n",
            "                                                                 \n",
            " dense_24 (Dense)            (None, 512)               5538304   \n",
            "                                                                 \n",
            " dense_25 (Dense)            (None, 10)                5130      \n",
            "                                                                 \n",
            "=================================================================\n",
            "Total params: 5,544,074\n",
            "Trainable params: 5,544,074\n",
            "Non-trainable params: 0\n",
            "_________________________________________________________________\n"
          ]
        }
      ]
    },
    {
      "cell_type": "markdown",
      "source": [
        "####**Compiling the model**"
      ],
      "metadata": {
        "id": "IMvzfBfn2wJ-"
      }
    },
    {
      "cell_type": "code",
      "source": [
        "model.compile(optimizer = 'adam',\n",
        "              loss = tf.keras.losses.SparseCategoricalCrossentropy(),\n",
        "              # loss = 'sparse_categorical_crossentropy',\n",
        "              metrics=['accuracy'])"
      ],
      "metadata": {
        "id": "d1DQ29J72mmB"
      },
      "execution_count": 39,
      "outputs": []
    },
    {
      "cell_type": "markdown",
      "source": [
        "####**Training the model**"
      ],
      "metadata": {
        "id": "2R3Vp3Gt2-4L"
      }
    },
    {
      "cell_type": "code",
      "source": [
        "history = model.fit(X_train_flat, y_train, epochs=10, verbose=1)"
      ],
      "metadata": {
        "id": "PguRokJt29-a",
        "colab": {
          "base_uri": "https://localhost:8080/"
        },
        "outputId": "b34b1f78-56d2-41b6-8f52-b2239c05080e"
      },
      "execution_count": 40,
      "outputs": [
        {
          "output_type": "stream",
          "name": "stdout",
          "text": [
            "Epoch 1/10\n",
            "1875/1875 [==============================] - 136s 72ms/step - loss: 0.1373 - accuracy: 0.9578\n",
            "Epoch 2/10\n",
            "1875/1875 [==============================] - 133s 71ms/step - loss: 0.0561 - accuracy: 0.9822\n",
            "Epoch 3/10\n",
            "1875/1875 [==============================] - 135s 72ms/step - loss: 0.0376 - accuracy: 0.9879\n",
            "Epoch 4/10\n",
            "1875/1875 [==============================] - 135s 72ms/step - loss: 0.0270 - accuracy: 0.9909\n",
            "Epoch 5/10\n",
            "1875/1875 [==============================] - 129s 69ms/step - loss: 0.0203 - accuracy: 0.9930\n",
            "Epoch 6/10\n",
            "1875/1875 [==============================] - 126s 67ms/step - loss: 0.0186 - accuracy: 0.9939\n",
            "Epoch 7/10\n",
            "1875/1875 [==============================] - 132s 70ms/step - loss: 0.0136 - accuracy: 0.9956\n",
            "Epoch 8/10\n",
            "1875/1875 [==============================] - 136s 73ms/step - loss: 0.0110 - accuracy: 0.9959\n",
            "Epoch 9/10\n",
            "1875/1875 [==============================] - 131s 70ms/step - loss: 0.0097 - accuracy: 0.9968\n",
            "Epoch 10/10\n",
            "1875/1875 [==============================] - 138s 74ms/step - loss: 0.0098 - accuracy: 0.9967\n"
          ]
        }
      ]
    },
    {
      "cell_type": "markdown",
      "source": [
        "####**Evaluating the performance**"
      ],
      "metadata": {
        "id": "ues5Uz5ZIonL"
      }
    },
    {
      "cell_type": "code",
      "source": [
        "model.evaluate(X_test_flat, y_test)"
      ],
      "metadata": {
        "id": "9X203acY3NMQ",
        "colab": {
          "base_uri": "https://localhost:8080/"
        },
        "outputId": "1b9e87ab-e9b6-423b-cd10-7145fc38aef9"
      },
      "execution_count": 41,
      "outputs": [
        {
          "output_type": "stream",
          "name": "stdout",
          "text": [
            "313/313 [==============================] - 4s 13ms/step - loss: 0.0479 - accuracy: 0.9879\n"
          ]
        },
        {
          "output_type": "execute_result",
          "data": {
            "text/plain": [
              "[0.04785918444395065, 0.9879000186920166]"
            ]
          },
          "metadata": {},
          "execution_count": 41
        }
      ]
    },
    {
      "cell_type": "code",
      "source": [
        "pd.DataFrame(history.history).plot(figsize=(10,6))\n",
        "plt.grid(True)\n",
        "plt.gca().set_ylim(0,1)\n",
        "plt.show()"
      ],
      "metadata": {
        "id": "a6xt1g3Q3vUh",
        "colab": {
          "base_uri": "https://localhost:8080/",
          "height": 378
        },
        "outputId": "ee12b7ac-ae4c-4683-e592-67548b7320d1"
      },
      "execution_count": 42,
      "outputs": [
        {
          "output_type": "display_data",
          "data": {
            "text/plain": [
              "<Figure size 720x432 with 1 Axes>"
            ],
            "image/png": "[encoded data removed]"
          },
          "metadata": {
            "needs_background": "light"
          }
        }
      ]
    },
    {
      "cell_type": "code",
      "source": [
        "prediction = model.predict(X_test_flat)\n",
        "print(prediction)"
      ],
      "metadata": {
        "id": "OAsKkkq64Kg5",
        "colab": {
          "base_uri": "https://localhost:8080/"
        },
        "outputId": "0f02fa45-88b7-4ee3-9aca-c7a2eb931efd"
      },
      "execution_count": 43,
      "outputs": [
        {
          "output_type": "stream",
          "name": "stdout",
          "text": [
            "313/313 [==============================] - 4s 12ms/step\n",
            "[[9.3608660e-15 1.5140687e-11 3.4830080e-11 ... 9.9999994e-01\n",
            "  7.3931895e-14 9.3010807e-12]\n",
            " [5.3175881e-16 6.5469960e-13 9.9999994e-01 ... 2.4064268e-23\n",
            "  4.6772994e-22 5.8024342e-23]\n",
            " [1.0900366e-12 9.9999946e-01 1.7813231e-10 ... 1.9923124e-08\n",
            "  7.0763559e-09 5.4172906e-11]\n",
            " ...\n",
            " [4.3872603e-25 3.7666070e-17 1.4948438e-18 ... 3.2267974e-14\n",
            "  5.7006158e-14 1.6399427e-11]\n",
            " [4.9957929e-16 1.3274174e-19 4.9608403e-20 ... 5.9142971e-18\n",
            "  5.4696442e-10 7.7916542e-18]\n",
            " [5.2336068e-17 2.0454084e-18 1.3913777e-17 ... 6.3503471e-25\n",
            "  1.2894240e-16 4.2816556e-19]]\n"
          ]
        }
      ]
    },
    {
      "cell_type": "code",
      "source": [
        "print(prediction[9999])"
      ],
      "metadata": {
        "id": "Q0MwJox25uyZ",
        "colab": {
          "base_uri": "https://localhost:8080/"
        },
        "outputId": "82286198-6bb7-47bc-d4fe-094e839bb507"
      },
      "execution_count": 44,
      "outputs": [
        {
          "output_type": "stream",
          "name": "stdout",
          "text": [
            "[5.2336068e-17 2.0454084e-18 1.3913777e-17 1.6677786e-17 6.4017480e-15\n",
            " 1.3047247e-13 9.9999994e-01 6.3503471e-25 1.2894240e-16 4.2816556e-19]\n"
          ]
        }
      ]
    },
    {
      "cell_type": "code",
      "source": [
        "np.argmax(prediction[9999])"
      ],
      "metadata": {
        "colab": {
          "base_uri": "https://localhost:8080/"
        },
        "id": "DBYjSCnLcD-q",
        "outputId": "cf2dc5de-73ea-465e-a1b4-a169ecb40154"
      },
      "execution_count": 45,
      "outputs": [
        {
          "output_type": "execute_result",
          "data": {
            "text/plain": [
              "6"
            ]
          },
          "metadata": {},
          "execution_count": 45
        }
      ]
    },
    {
      "cell_type": "code",
      "source": [
        "plt.matshow(X_test[9999])"
      ],
      "metadata": {
        "colab": {
          "base_uri": "https://localhost:8080/",
          "height": 292
        },
        "id": "23h88Cx5btAV",
        "outputId": "9de1d4d8-deb2-4161-c10b-09cf5ccdd9b5"
      },
      "execution_count": 46,
      "outputs": [
        {
          "output_type": "execute_result",
          "data": {
            "text/plain": [
              "<matplotlib.image.AxesImage at 0x7f485a3b8760>"
            ]
          },
          "metadata": {},
          "execution_count": 46
        },
        {
          "output_type": "display_data",
          "data": {
            "text/plain": [
              "<Figure size 288x288 with 1 Axes>"
            ],
            "image/png": "[encoded data removed]"
          },
          "metadata": {
            "needs_background": "light"
          }
        }
      ]
    },
    {
      "cell_type": "code",
      "source": [
        "predicted_labels = [np.argmax(i) for i in prediction]"
      ],
      "metadata": {
        "id": "C0ytS7jSc_1M"
      },
      "execution_count": 47,
      "outputs": []
    },
    {
      "cell_type": "code",
      "source": [
        "cm = confusion_matrix(y_test, prediction.argmax(axis=1))\n",
        "print(cm)"
      ],
      "metadata": {
        "id": "j1n1c5hV8DLN",
        "colab": {
          "base_uri": "https://localhost:8080/"
        },
        "outputId": "b3076e59-f599-4508-f6bd-9f0e94391760"
      },
      "execution_count": 48,
      "outputs": [
        {
          "output_type": "stream",
          "name": "stdout",
          "text": [
            "[[ 973    1    2    0    0    0    3    1    0    0]\n",
            " [   0 1132    0    0    0    0    2    1    0    0]\n",
            " [   1    0 1023    0    0    0    1    5    2    0]\n",
            " [   1    0    4  994    0    7    0    2    1    1]\n",
            " [   0    0    0    0  971    0    4    0    0    7]\n",
            " [   1    0    0    2    0  885    4    0    0    0]\n",
            " [   2    2    0    0    1    5  948    0    0    0]\n",
            " [   0    1   11    0    0    0    0 1013    1    2]\n",
            " [   2    0    5    2    0    0    1    0  961    3]\n",
            " [   1    2    1    0    9   12    0    4    1  979]]\n"
          ]
        }
      ]
    },
    {
      "cell_type": "code",
      "source": [
        "disp = ConfusionMatrixDisplay(confusion_matrix=cm)\n",
        "disp.plot()\n",
        "plt.show()"
      ],
      "metadata": {
        "id": "RP7lkIncBnSW",
        "colab": {
          "base_uri": "https://localhost:8080/",
          "height": 279
        },
        "outputId": "c834d0a2-f430-47d7-b515-5bef61d449cd"
      },
      "execution_count": 49,
      "outputs": [
        {
          "output_type": "display_data",
          "data": {
            "text/plain": [
              "<Figure size 432x288 with 2 Axes>"
            ],
            "image/png": "[encoded data removed]"
          },
          "metadata": {
            "needs_background": "light"
          }
        }
      ]
    },
    {
      "cell_type": "code",
      "source": [
        "# Alternative Code for Displaying Confusion Matrix\n",
        "import seaborn as sn\n",
        "plt.figure(figsize = (10,10))\n",
        "sn.heatmap(cm, annot=True, fmt='d')\n",
        "plt.xlabel('Predicted Label')\n",
        "plt.ylabel('True Label')"
      ],
      "metadata": {
        "colab": {
          "base_uri": "https://localhost:8080/",
          "height": 623
        },
        "id": "D5vf25P_d9NF",
        "outputId": "dd2d2667-ba5c-4cbb-99a7-269a3dfe507e"
      },
      "execution_count": 50,
      "outputs": [
        {
          "output_type": "execute_result",
          "data": {
            "text/plain": [
              "Text(69.0, 0.5, 'True Label')"
            ]
          },
          "metadata": {},
          "execution_count": 50
        },
        {
          "output_type": "display_data",
          "data": {
            "text/plain": [
              "<Figure size 720x720 with 2 Axes>"
            ],
            "image/png": "[encoded data removed]"
          },
          "metadata": {
            "needs_background": "light"
          }
        }
      ]
    },
    {
      "cell_type": "code",
      "source": [
        "accuracy = 100*np.trace(cm)/np.sum(cm)\n",
        "print(accuracy)"
      ],
      "metadata": {
        "id": "PrsS0T2TD0MI",
        "colab": {
          "base_uri": "https://localhost:8080/"
        },
        "outputId": "af6c2192-ccae-4874-f709-98128e0685f7"
      },
      "execution_count": 51,
      "outputs": [
        {
          "output_type": "stream",
          "name": "stdout",
          "text": [
            "98.79\n"
          ]
        }
      ]
    }
  ]
}